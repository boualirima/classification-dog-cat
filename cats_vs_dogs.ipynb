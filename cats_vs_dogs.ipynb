{
 "cells": [
  {
   "cell_type": "code",
   "execution_count": 1,
   "id": "436588f0-0676-43c4-a2d2-20d06b329311",
   "metadata": {},
   "outputs": [
    {
     "name": "stdout",
     "output_type": "stream",
     "text": [
      "Requirement already satisfied: Pillow in c:\\users\\informatique spr\\appdata\\local\\programs\\python\\python313\\lib\\site-packages (11.0.0)\n"
     ]
    }
   ],
   "source": [
    "!pip install Pillow"
   ]
  },
  {
   "cell_type": "code",
   "execution_count": 4,
   "id": "d5d0d67a-521f-405d-b91b-65f4e8cfc7b6",
   "metadata": {},
   "outputs": [],
   "source": [
    "from PIL import Image"
   ]
  },
  {
   "cell_type": "markdown",
   "id": "0534a317-dd75-4600-a2e5-a875946005bf",
   "metadata": {},
   "source": [
    "#### traiter data"
   ]
  },
  {
   "cell_type": "code",
   "execution_count": 5,
   "id": "5e661886-4406-4b82-a7dd-b3a727127ac2",
   "metadata": {},
   "outputs": [],
   "source": [
    "image =Image.open(\"./data/cats/cat1.jpg\")"
   ]
  },
  {
   "cell_type": "code",
   "execution_count": 9,
   "id": "b54065f4-6711-45a4-81f7-0367bf14d4fd",
   "metadata": {},
   "outputs": [],
   "source": [
    "image.show()"
   ]
  },
  {
   "cell_type": "code",
   "execution_count": 8,
   "id": "86294da3-b4a4-4c8e-b04d-0db3d3fc8e24",
   "metadata": {},
   "outputs": [],
   "source": [
    "image=image.resize((128,128))"
   ]
  },
  {
   "cell_type": "code",
   "execution_count": 10,
   "id": "6b644e1a-5469-484a-97b0-095e1049069a",
   "metadata": {},
   "outputs": [],
   "source": [
    "import numpy as np"
   ]
  },
  {
   "cell_type": "code",
   "execution_count": 11,
   "id": "e48e443d-9535-486b-8b96-6956112da21c",
   "metadata": {},
   "outputs": [],
   "source": [
    "image_array=np.array(image)"
   ]
  },
  {
   "cell_type": "code",
   "execution_count": 12,
   "id": "11e25293-f13a-499a-9858-77d0ae2756ea",
   "metadata": {},
   "outputs": [
    {
     "name": "stdout",
     "output_type": "stream",
     "text": [
      "(128, 128, 3)\n"
     ]
    }
   ],
   "source": [
    "print(image_array.shape)"
   ]
  },
  {
   "cell_type": "code",
   "execution_count": 13,
   "id": "dcbfa6aa-1015-4655-ab0f-add23c1448eb",
   "metadata": {},
   "outputs": [],
   "source": [
    "import os"
   ]
  },
  {
   "cell_type": "code",
   "execution_count": 15,
   "id": "d6000dfe-4438-4f10-889e-70cd70bec6e1",
   "metadata": {},
   "outputs": [],
   "source": [
    "input_folder=\"./data/cats\""
   ]
  },
  {
   "cell_type": "code",
   "execution_count": 27,
   "id": "442c85d0-5a16-47dd-8f73-4d7ff736123f",
   "metadata": {},
   "outputs": [],
   "source": [
    "input_folder2=\"./data/dogs\""
   ]
  },
  {
   "cell_type": "code",
   "execution_count": 16,
   "id": "c72debcb-6996-4f5d-a117-fbae54a8aff7",
   "metadata": {},
   "outputs": [],
   "source": [
    "output_folder=\"./data/cats_resized\""
   ]
  },
  {
   "cell_type": "code",
   "execution_count": 28,
   "id": "53a629ab-8b71-4727-b995-d76f6f0ba269",
   "metadata": {},
   "outputs": [],
   "source": [
    "output_folder2=\"./data/dogs_resized\""
   ]
  },
  {
   "cell_type": "code",
   "execution_count": 29,
   "id": "46505c53-fb0f-413f-b2c9-e0de24a27cca",
   "metadata": {},
   "outputs": [],
   "source": [
    "os.makedirs(output_folder2,exist_ok=True)"
   ]
  },
  {
   "cell_type": "code",
   "execution_count": 18,
   "id": "deb2b1a5-3d93-43b9-be48-9ea329f78c6d",
   "metadata": {},
   "outputs": [],
   "source": [
    "os.makedirs(output_folder,exist_ok=True)"
   ]
  },
  {
   "cell_type": "code",
   "execution_count": 25,
   "id": "3348bc8b-69e9-4b6e-b488-82a37d86e748",
   "metadata": {},
   "outputs": [],
   "source": [
    "compteur=1"
   ]
  },
  {
   "cell_type": "code",
   "execution_count": 26,
   "id": "ae63bd2b-012a-42a7-a1ce-3c2e770dcb59",
   "metadata": {},
   "outputs": [],
   "source": [
    "for filename in os.listdir(input_folder):\n",
    "    if filename.endswith(\".jpg\") or filename.endswith(\".png\"):\n",
    "        img_path=os.path.join(input_folder,filename)\n",
    "        img=Image.open(img_path)\n",
    "        img_resized=img.resize((128,128))\n",
    "        nouveau_nom = f\"cat{compteur}.jpg\"\n",
    "        save_path=os.path.join(output_folder,nouveau_nom)\n",
    "        img_resized.save(save_path)\n",
    "        compteur += 1\n",
    "\n",
    "\n"
   ]
  },
  {
   "cell_type": "code",
   "execution_count": 33,
   "id": "a1983d0d-f738-4825-a308-36cba1e1ad24",
   "metadata": {},
   "outputs": [],
   "source": [
    "compteur=1"
   ]
  },
  {
   "cell_type": "code",
   "execution_count": 34,
   "id": "bf3bcb78-7b8d-4b12-928c-e33ec1f06f45",
   "metadata": {},
   "outputs": [],
   "source": [
    "for filename in os.listdir(input_folder2):\n",
    "    if filename.endswith(\".jpg\") or filename.endswith(\".png\"):\n",
    "        img_path=os.path.join(input_folder2,filename)\n",
    "        img=Image.open(img_path)\n",
    "        img_resized=img.resize((128,128))\n",
    "        nouveau_nom = f\"dog{compteur}.jpg\"\n",
    "        save_path=os.path.join(output_folder2,nouveau_nom)\n",
    "        img_resized.save(save_path)\n",
    "        compteur += 1\n"
   ]
  },
  {
   "cell_type": "code",
   "execution_count": null,
   "id": "708f96a6-af2c-489e-bcc7-889fa1a68d0d",
   "metadata": {},
   "outputs": [],
   "source": []
  },
  {
   "cell_type": "code",
   "execution_count": null,
   "id": "166e5e81-0658-4163-9c23-ead972cdc6ab",
   "metadata": {},
   "outputs": [],
   "source": []
  },
  {
   "cell_type": "code",
   "execution_count": null,
   "id": "ccfbbfa1-a129-4cdb-9023-b84e529d2963",
   "metadata": {},
   "outputs": [],
   "source": []
  },
  {
   "cell_type": "code",
   "execution_count": null,
   "id": "89118205-ee43-42e1-b120-05720b69e921",
   "metadata": {},
   "outputs": [],
   "source": []
  },
  {
   "cell_type": "code",
   "execution_count": null,
   "id": "cad0fed4-4b08-4431-b5a9-8fc5e691cdf1",
   "metadata": {},
   "outputs": [],
   "source": []
  }
 ],
 "metadata": {
  "kernelspec": {
   "display_name": "Python 3 (ipykernel)",
   "language": "python",
   "name": "python3"
  },
  "language_info": {
   "codemirror_mode": {
    "name": "ipython",
    "version": 3
   },
   "file_extension": ".py",
   "mimetype": "text/x-python",
   "name": "python",
   "nbconvert_exporter": "python",
   "pygments_lexer": "ipython3",
   "version": "3.13.1"
  }
 },
 "nbformat": 4,
 "nbformat_minor": 5
}
